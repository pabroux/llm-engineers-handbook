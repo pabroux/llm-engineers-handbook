{
 "cells": [
  {
   "cell_type": "markdown",
   "id": "e4878485-e2d5-4195-9db5-ad309db50d36",
   "metadata": {},
   "source": [
    "# nanoGPT\n",
    "\n",
    "This notebook reimplement (nano)GPT from scratch. It is proposed by [Andrej Karpathy](https://www.youtube.com/watch?v=kCc8FmEb1nY)."
   ]
  },
  {
   "cell_type": "code",
   "execution_count": null,
   "id": "0c60eee8-8495-46dd-9a71-b878e239026c",
   "metadata": {},
   "outputs": [],
   "source": []
  },
  {
   "cell_type": "code",
   "execution_count": null,
   "id": "e47be271-9430-4cb0-904a-26138ad67984",
   "metadata": {},
   "outputs": [],
   "source": []
  }
 ],
 "metadata": {
  "kernelspec": {
   "display_name": "Python 3 (ipykernel)",
   "language": "python",
   "name": "python3"
  },
  "language_info": {
   "codemirror_mode": {
    "name": "ipython",
    "version": 3
   },
   "file_extension": ".py",
   "mimetype": "text/x-python",
   "name": "python",
   "nbconvert_exporter": "python",
   "pygments_lexer": "ipython3",
   "version": "3.12.9"
  }
 },
 "nbformat": 4,
 "nbformat_minor": 5
}
